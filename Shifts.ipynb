{
  "cells": [
    {
      "cell_type": "markdown",
      "metadata": {
        "id": "view-in-github",
        "colab_type": "text"
      },
      "source": [
        "<a href=\"https://colab.research.google.com/github/fgranda1/holberton-system_engineering-devops/blob/master/Shifts.ipynb\" target=\"_parent\"><img src=\"https://colab.research.google.com/assets/colab-badge.svg\" alt=\"Open In Colab\"/></a>"
      ]
    },
    {
      "cell_type": "code",
      "source": [
        "from google.colab import drive\n",
        "drive.mount('/content/drive')"
      ],
      "metadata": {
        "id": "UmF4fVhcvYrh",
        "outputId": "8a5bed0a-dd97-46f9-fe04-8cf4f4a02dc3",
        "colab": {
          "base_uri": "https://localhost:8080/"
        }
      },
      "execution_count": 1,
      "outputs": [
        {
          "output_type": "stream",
          "name": "stdout",
          "text": [
            "Mounted at /content/drive\n"
          ]
        }
      ]
    },
    {
      "cell_type": "code",
      "source": [
        "import pandas as pd"
      ],
      "metadata": {
        "id": "AOormXyqwBic"
      },
      "execution_count": 2,
      "outputs": []
    },
    {
      "cell_type": "code",
      "source": [
        "df = pd.read_csv(\"/content/drive/MyDrive/shells.csv\",\n",
        "                  sep=\",\", encoding='cp1252')"
      ],
      "metadata": {
        "id": "q53VC-qMwG6Z"
      },
      "execution_count": 6,
      "outputs": []
    },
    {
      "cell_type": "code",
      "source": [
        "df.head(2)"
      ],
      "metadata": {
        "id": "GT6Kes6E1SAh",
        "outputId": "5852fc23-f74d-47dd-9b2d-c95b23228755",
        "colab": {
          "base_uri": "https://localhost:8080/",
          "height": 278
        }
      },
      "execution_count": 34,
      "outputs": [
        {
          "output_type": "execute_result",
          "data": {
            "text/plain": [
              "                  LOB  Pattern ID        EID                  Full name  \\\n",
              "0  MAOM South Florida           1  1716745.0  Sebastian Castillo Bedoya   \n",
              "1  MAOM South Florida           2  1633098.0                 Laura Puin   \n",
              "\n",
              "                     Supervisor                    Manager  Status Activity  \\\n",
              "0  Robert Junior Saenz Corredor  Harrison Jose Garcia Ruiz  Active  Online    \n",
              "1  Robert Junior Saenz Corredor     Alejandro Forero Rueda  Active  Online    \n",
              "\n",
              "   WW hours  Sun                Mon                Tue                Wed  \\\n",
              "0  42:30:00  OFF  9:00 AM - 5:30 PM  9:00 AM - 5:30 PM  9:00 AM - 5:30 PM   \n",
              "1  42:30:00  OFF  8:00 AM - 4:30 PM  8:00 AM - 4:30 PM  8:00 AM - 4:30 PM   \n",
              "\n",
              "                 Thu                Fri  Sat  \n",
              "0  9:00 AM - 5:30 PM  9:00 AM - 5:30 PM  OFF  \n",
              "1  8:00 AM - 4:30 PM  8:00 AM - 4:30 PM  OFF  "
            ],
            "text/html": [
              "\n",
              "  <div id=\"df-3a647949-5be4-4f8c-aea4-102b74131959\">\n",
              "    <div class=\"colab-df-container\">\n",
              "      <div>\n",
              "<style scoped>\n",
              "    .dataframe tbody tr th:only-of-type {\n",
              "        vertical-align: middle;\n",
              "    }\n",
              "\n",
              "    .dataframe tbody tr th {\n",
              "        vertical-align: top;\n",
              "    }\n",
              "\n",
              "    .dataframe thead th {\n",
              "        text-align: right;\n",
              "    }\n",
              "</style>\n",
              "<table border=\"1\" class=\"dataframe\">\n",
              "  <thead>\n",
              "    <tr style=\"text-align: right;\">\n",
              "      <th></th>\n",
              "      <th>LOB</th>\n",
              "      <th>Pattern ID</th>\n",
              "      <th>EID</th>\n",
              "      <th>Full name</th>\n",
              "      <th>Supervisor</th>\n",
              "      <th>Manager</th>\n",
              "      <th>Status</th>\n",
              "      <th>Activity</th>\n",
              "      <th>WW hours</th>\n",
              "      <th>Sun</th>\n",
              "      <th>Mon</th>\n",
              "      <th>Tue</th>\n",
              "      <th>Wed</th>\n",
              "      <th>Thu</th>\n",
              "      <th>Fri</th>\n",
              "      <th>Sat</th>\n",
              "    </tr>\n",
              "  </thead>\n",
              "  <tbody>\n",
              "    <tr>\n",
              "      <th>0</th>\n",
              "      <td>MAOM South Florida</td>\n",
              "      <td>1</td>\n",
              "      <td>1716745.0</td>\n",
              "      <td>Sebastian Castillo Bedoya</td>\n",
              "      <td>Robert Junior Saenz Corredor</td>\n",
              "      <td>Harrison Jose Garcia Ruiz</td>\n",
              "      <td>Active</td>\n",
              "      <td>Online</td>\n",
              "      <td>42:30:00</td>\n",
              "      <td>OFF</td>\n",
              "      <td>9:00 AM - 5:30 PM</td>\n",
              "      <td>9:00 AM - 5:30 PM</td>\n",
              "      <td>9:00 AM - 5:30 PM</td>\n",
              "      <td>9:00 AM - 5:30 PM</td>\n",
              "      <td>9:00 AM - 5:30 PM</td>\n",
              "      <td>OFF</td>\n",
              "    </tr>\n",
              "    <tr>\n",
              "      <th>1</th>\n",
              "      <td>MAOM South Florida</td>\n",
              "      <td>2</td>\n",
              "      <td>1633098.0</td>\n",
              "      <td>Laura Puin</td>\n",
              "      <td>Robert Junior Saenz Corredor</td>\n",
              "      <td>Alejandro Forero Rueda</td>\n",
              "      <td>Active</td>\n",
              "      <td>Online</td>\n",
              "      <td>42:30:00</td>\n",
              "      <td>OFF</td>\n",
              "      <td>8:00 AM - 4:30 PM</td>\n",
              "      <td>8:00 AM - 4:30 PM</td>\n",
              "      <td>8:00 AM - 4:30 PM</td>\n",
              "      <td>8:00 AM - 4:30 PM</td>\n",
              "      <td>8:00 AM - 4:30 PM</td>\n",
              "      <td>OFF</td>\n",
              "    </tr>\n",
              "  </tbody>\n",
              "</table>\n",
              "</div>\n",
              "      <button class=\"colab-df-convert\" onclick=\"convertToInteractive('df-3a647949-5be4-4f8c-aea4-102b74131959')\"\n",
              "              title=\"Convert this dataframe to an interactive table.\"\n",
              "              style=\"display:none;\">\n",
              "        \n",
              "  <svg xmlns=\"http://www.w3.org/2000/svg\" height=\"24px\"viewBox=\"0 0 24 24\"\n",
              "       width=\"24px\">\n",
              "    <path d=\"M0 0h24v24H0V0z\" fill=\"none\"/>\n",
              "    <path d=\"M18.56 5.44l.94 2.06.94-2.06 2.06-.94-2.06-.94-.94-2.06-.94 2.06-2.06.94zm-11 1L8.5 8.5l.94-2.06 2.06-.94-2.06-.94L8.5 2.5l-.94 2.06-2.06.94zm10 10l.94 2.06.94-2.06 2.06-.94-2.06-.94-.94-2.06-.94 2.06-2.06.94z\"/><path d=\"M17.41 7.96l-1.37-1.37c-.4-.4-.92-.59-1.43-.59-.52 0-1.04.2-1.43.59L10.3 9.45l-7.72 7.72c-.78.78-.78 2.05 0 2.83L4 21.41c.39.39.9.59 1.41.59.51 0 1.02-.2 1.41-.59l7.78-7.78 2.81-2.81c.8-.78.8-2.07 0-2.86zM5.41 20L4 18.59l7.72-7.72 1.47 1.35L5.41 20z\"/>\n",
              "  </svg>\n",
              "      </button>\n",
              "      \n",
              "  <style>\n",
              "    .colab-df-container {\n",
              "      display:flex;\n",
              "      flex-wrap:wrap;\n",
              "      gap: 12px;\n",
              "    }\n",
              "\n",
              "    .colab-df-convert {\n",
              "      background-color: #E8F0FE;\n",
              "      border: none;\n",
              "      border-radius: 50%;\n",
              "      cursor: pointer;\n",
              "      display: none;\n",
              "      fill: #1967D2;\n",
              "      height: 32px;\n",
              "      padding: 0 0 0 0;\n",
              "      width: 32px;\n",
              "    }\n",
              "\n",
              "    .colab-df-convert:hover {\n",
              "      background-color: #E2EBFA;\n",
              "      box-shadow: 0px 1px 2px rgba(60, 64, 67, 0.3), 0px 1px 3px 1px rgba(60, 64, 67, 0.15);\n",
              "      fill: #174EA6;\n",
              "    }\n",
              "\n",
              "    [theme=dark] .colab-df-convert {\n",
              "      background-color: #3B4455;\n",
              "      fill: #D2E3FC;\n",
              "    }\n",
              "\n",
              "    [theme=dark] .colab-df-convert:hover {\n",
              "      background-color: #434B5C;\n",
              "      box-shadow: 0px 1px 3px 1px rgba(0, 0, 0, 0.15);\n",
              "      filter: drop-shadow(0px 1px 2px rgba(0, 0, 0, 0.3));\n",
              "      fill: #FFFFFF;\n",
              "    }\n",
              "  </style>\n",
              "\n",
              "      <script>\n",
              "        const buttonEl =\n",
              "          document.querySelector('#df-3a647949-5be4-4f8c-aea4-102b74131959 button.colab-df-convert');\n",
              "        buttonEl.style.display =\n",
              "          google.colab.kernel.accessAllowed ? 'block' : 'none';\n",
              "\n",
              "        async function convertToInteractive(key) {\n",
              "          const element = document.querySelector('#df-3a647949-5be4-4f8c-aea4-102b74131959');\n",
              "          const dataTable =\n",
              "            await google.colab.kernel.invokeFunction('convertToInteractive',\n",
              "                                                     [key], {});\n",
              "          if (!dataTable) return;\n",
              "\n",
              "          const docLinkHtml = 'Like what you see? Visit the ' +\n",
              "            '<a target=\"_blank\" href=https://colab.research.google.com/notebooks/data_table.ipynb>data table notebook</a>'\n",
              "            + ' to learn more about interactive tables.';\n",
              "          element.innerHTML = '';\n",
              "          dataTable['output_type'] = 'display_data';\n",
              "          await google.colab.output.renderOutput(dataTable, element);\n",
              "          const docLink = document.createElement('div');\n",
              "          docLink.innerHTML = docLinkHtml;\n",
              "          element.appendChild(docLink);\n",
              "        }\n",
              "      </script>\n",
              "    </div>\n",
              "  </div>\n",
              "  "
            ]
          },
          "metadata": {},
          "execution_count": 34
        }
      ]
    },
    {
      "cell_type": "code",
      "source": [
        "#WorkForce slots number requirements\n",
        "base_shell_slot = [ {'slots':key, 'time_range':value } for  value, key in df.pivot_table(columns=['Mon'], aggfunc='size').to_dict().items()]\n",
        "base_shell_slot"
      ],
      "metadata": {
        "id": "LjjHntc79QzZ",
        "outputId": "0e11dfed-9b45-4ca0-ef92-357e6851419c",
        "colab": {
          "base_uri": "https://localhost:8080/"
        }
      },
      "execution_count": 47,
      "outputs": [
        {
          "output_type": "execute_result",
          "data": {
            "text/plain": [
              "[{'slots': 2, 'time_range': '7:00 AM - 4:00 PM'},\n",
              " {'slots': 3, 'time_range': '7:00 AM - 4:30 PM'},\n",
              " {'slots': 1, 'time_range': '7:15 AM - 4:45 PM'},\n",
              " {'slots': 3, 'time_range': '7:30 AM - 5:00 PM'},\n",
              " {'slots': 2, 'time_range': '8:00 AM - 4:30 PM'},\n",
              " {'slots': 1, 'time_range': '8:00 AM - 5:00 PM'},\n",
              " {'slots': 1, 'time_range': '8:00 AM - 5:30 PM'},\n",
              " {'slots': 1, 'time_range': '8:30 AM - 5:30 PM'},\n",
              " {'slots': 4, 'time_range': '8:30 AM - 6:00 PM'},\n",
              " {'slots': 1, 'time_range': '9:00 AM - 5:30 PM'},\n",
              " {'slots': 1, 'time_range': '9:30 AM - 6:30 PM'},\n",
              " {'slots': 4, 'time_range': '9:30 AM - 7:00 PM'}]"
            ]
          },
          "metadata": {},
          "execution_count": 47
        }
      ]
    },
    {
      "cell_type": "code",
      "source": [
        "shells = []\n",
        "\n",
        "for i in range(len(base_shell_slot)):\n",
        "  shells.append({\n",
        "      'id':i,\n",
        "      'time_range':base_shell_slot[i]['time_range']\n",
        "  })\n",
        "\n",
        "shells\n",
        "\n"
      ],
      "metadata": {
        "id": "Jb6PXLLm1_2Z",
        "outputId": "320e0f01-338c-444a-f23d-83abf3a7a248",
        "colab": {
          "base_uri": "https://localhost:8080/"
        }
      },
      "execution_count": 55,
      "outputs": [
        {
          "output_type": "execute_result",
          "data": {
            "text/plain": [
              "[{'id': 0, 'time_range': '7:00 AM - 4:00 PM'},\n",
              " {'id': 1, 'time_range': '7:00 AM - 4:30 PM'},\n",
              " {'id': 2, 'time_range': '7:15 AM - 4:45 PM'},\n",
              " {'id': 3, 'time_range': '7:30 AM - 5:00 PM'},\n",
              " {'id': 4, 'time_range': '8:00 AM - 4:30 PM'},\n",
              " {'id': 5, 'time_range': '8:00 AM - 5:00 PM'},\n",
              " {'id': 6, 'time_range': '8:00 AM - 5:30 PM'},\n",
              " {'id': 7, 'time_range': '8:30 AM - 5:30 PM'},\n",
              " {'id': 8, 'time_range': '8:30 AM - 6:00 PM'},\n",
              " {'id': 9, 'time_range': '9:00 AM - 5:30 PM'},\n",
              " {'id': 10, 'time_range': '9:30 AM - 6:30 PM'},\n",
              " {'id': 11, 'time_range': '9:30 AM - 7:00 PM'}]"
            ]
          },
          "metadata": {},
          "execution_count": 55
        }
      ]
    },
    {
      "cell_type": "code",
      "source": [
        "employees = df.loc[:,\"Full name\"].to_dict()\n",
        "employees"
      ],
      "metadata": {
        "id": "l1cmbedXBdT-",
        "outputId": "c2e1bc26-718a-4a73-c970-d1ce510a78b2",
        "colab": {
          "base_uri": "https://localhost:8080/"
        }
      },
      "execution_count": 49,
      "outputs": [
        {
          "output_type": "execute_result",
          "data": {
            "text/plain": [
              "{0: 'Sebastian Castillo Bedoya',\n",
              " 1: 'Laura Puin',\n",
              " 2: 'Luis Felipe Grada Rivera',\n",
              " 3: 'Carolina Orozco Melo',\n",
              " 4: 'Juli‡n Santiago Calder—n Barreto',\n",
              " 5: 'Jimmy Alexander Pinilla Molina',\n",
              " 6: 'Pablo Alejandro Bautista Hoyos',\n",
              " 7: 'Juan Sebastian Bayona Hoyos',\n",
              " 8: 'Eleazar David Pieruzzini Martinez',\n",
              " 9: 'Ruth Garcia Maldonado',\n",
              " 10: 'Hans Skjoldebrand Oviedo',\n",
              " 11: 'Juan Andres Vanegas Ramirez',\n",
              " 12: 'Johnny Alberto Corona Bolivar',\n",
              " 13: 'Daniela Alejandra Cruz Oviedo',\n",
              " 14: 'Miguel Angel Perez Torres',\n",
              " 15: nan,\n",
              " 16: 'Jazmin Zulay Algarra Herrera',\n",
              " 17: 'William Ricardo Jejen Paez',\n",
              " 18: 'Johan Nicolas Morales Villa',\n",
              " 19: 'David Mauricio Rojas Uyaban',\n",
              " 20: 'Cesar Augusto Jimenez Garzon',\n",
              " 21: 'Amir Yamal Bader Mayorga',\n",
              " 22: 'Oscar Fernando Chingate Casta–o',\n",
              " 23: 'David Soto Lozano'}"
            ]
          },
          "metadata": {},
          "execution_count": 49
        }
      ]
    }
  ],
  "metadata": {
    "colab": {
      "collapsed_sections": [],
      "name": "Welcome To Colaboratory",
      "provenance": [],
      "include_colab_link": true
    },
    "kernelspec": {
      "display_name": "Python 3",
      "name": "python3"
    }
  },
  "nbformat": 4,
  "nbformat_minor": 0
}